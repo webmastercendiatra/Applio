{
  "nbformat": 4,
  "nbformat_minor": 0,
  "metadata": {
    "colab": {
      "provenance": [],
      "gpuType": "T4",
      "include_colab_link": true
    },
    "kernelspec": {
      "name": "python3",
      "display_name": "Python 3"
    },
    "language_info": {
      "name": "python"
    },
    "accelerator": "GPU"
  },
  "cells": [
    {
      "cell_type": "markdown",
      "metadata": {
        "id": "view-in-github",
        "colab_type": "text"
      },
      "source": [
        "<a href=\"https://colab.research.google.com/github/webmastercendiatra/Applio/blob/main/F5_TTS_Latest.ipynb\" target=\"_parent\"><img src=\"https://colab.research.google.com/assets/colab-badge.svg\" alt=\"Open In Colab\"/></a>"
      ]
    },
    {
      "cell_type": "code",
      "source": [
        "# !nvcc --version\n",
        "# https://pytorch.org/get-started/locally/\n",
        "# pip3 install torch torchvision torchaudio --index-url https://download.pytorch.org/whl/cu124"
      ],
      "metadata": {
        "id": "4v37Tp3_dI7l"
      },
      "execution_count": null,
      "outputs": []
    },
    {
      "cell_type": "code",
      "source": [
        "!pip install git+https://github.com/SWivid/F5-TTS.git\n",
        "from IPython.display import clear_output\n",
        "clear_output()"
      ],
      "metadata": {
        "id": "JzP3NJkiW9Em"
      },
      "execution_count": null,
      "outputs": []
    },
    {
      "cell_type": "code",
      "execution_count": null,
      "metadata": {
        "id": "dB3clv5KWtQG"
      },
      "outputs": [],
      "source": [
        "# Descargar modelo español\n",
        "!git lfs install\n",
        "!git clone https://huggingface.co/jpgallegoar/F5-Spanish"
      ]
    },
    {
      "cell_type": "code",
      "source": [
        "# Ejecutar con modelo español\n",
        "!f5-tts_infer-gradio \\\n",
        "  --checkpoint F5-Spanish/model_1250000.safetensors \\\n",
        "  --vocab_file F5-Spanish/vocab.txt \\\n",
        "  --config_file F5-Spanish/transformer_config.yaml \\\n",
        "  --share"
      ],
      "metadata": {
        "id": "rJzpEgcNV5ir"
      },
      "execution_count": null,
      "outputs": []
    }
  ]
}